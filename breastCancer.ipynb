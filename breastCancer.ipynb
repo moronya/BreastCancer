{
  "cells": [
    {
      "cell_type": "markdown",
      "metadata": {
        "id": "view-in-github",
        "colab_type": "text"
      },
      "source": [
        "<a href=\"https://colab.research.google.com/github/moronya/BreastCancer/blob/develop/breastCancer.ipynb\" target=\"_parent\"><img src=\"https://colab.research.google.com/assets/colab-badge.svg\" alt=\"Open In Colab\"/></a>"
      ]
    },
    {
      "cell_type": "markdown",
      "metadata": {
        "id": "63mckWRzK-Qu"
      },
      "source": [
        "import necessary libraries\n"
      ]
    },
    {
      "cell_type": "code",
      "execution_count": 1,
      "metadata": {
        "colab": {
          "base_uri": "https://localhost:8080/"
        },
        "id": "nQMof2AVK23Z",
        "outputId": "75d6304e-f9d4-4c2a-c50b-e90663ca0695"
      },
      "outputs": [
        {
          "output_type": "stream",
          "name": "stdout",
          "text": [
            "Mounted at /content/gdrive\n"
          ]
        }
      ],
      "source": [
        "from tensorflow import keras\n",
        "from keras import layers, models\n",
        "import os, shutil\n",
        "from google.colab import drive\n",
        "drive.mount('/content/gdrive')"
      ]
    },
    {
      "cell_type": "code",
      "execution_count": 2,
      "metadata": {
        "id": "_VN7XRgJUnAq"
      },
      "outputs": [],
      "source": [
        "# load data from local disk and create partitions i.e train and validation folders\n",
        "original_dataset = \"/content/gdrive/My Drive/Breast Cancer Images\"\n",
        "base_dir = \"C:/Users/Amos/Documents/Models/Partitioned\" # The folder will store partitioned data\n",
        "os.makedirs(base_dir, exist_ok = True)\n",
        "train_dir = os.path.join(base_dir, \"training\")\n",
        "os.mkdir(train_dir)\n",
        "validation_dir = os.path.join(base_dir, \"validation\")\n",
        "os.mkdir(validation_dir)"
      ]
    },
    {
      "cell_type": "code",
      "execution_count": 3,
      "metadata": {
        "id": "4okpzPfSaue-"
      },
      "outputs": [],
      "source": [
        "# Move data to their respective partitions\n",
        "train_normal_dir = os.path.join(train_dir, 'normal')\n",
        "os.mkdir(train_normal_dir)\n",
        "train_benign_dir = os.path.join(train_dir, 'benign')\n",
        "os.mkdir(train_benign_dir)\n",
        "train_malignant_dir = os.path.join(train_dir, 'malignant')\n",
        "os.mkdir(train_malignant_dir)\n",
        "\n",
        "validate_normal_dir = os.path.join(validation_dir, 'normal')\n",
        "os.mkdir(validate_normal_dir)\n",
        "validate_benign_dir = os.path.join(validation_dir, 'benign')\n",
        "os.mkdir(validate_benign_dir)\n",
        "validate_malignant_dir = os.path.join(validation_dir, 'malignant')\n",
        "os.mkdir(validate_malignant_dir)"
      ]
    },
    {
      "cell_type": "code",
      "execution_count": 4,
      "metadata": {
        "id": "VMGJH-XqcxhA"
      },
      "outputs": [],
      "source": [
        "# Loading the data\n",
        "# Copy the first 100 images to train_normal_dir\n",
        "fnames = ['normal ({}).png'.format(i) for i in range(1, 101)]\n",
        "for fname in fnames:\n",
        "  src = os.path.join(original_dataset+\"/normal\",fname)\n",
        "  dst = os.path.join(train_normal_dir, fname)\n",
        "  shutil.copyfile(src, dst)\n",
        "fnames = ['normal ({})_mask.png'.format(i) for i in range(1, 101)]\n",
        "for fname in fnames:\n",
        "  src = os.path.join(original_dataset+\"/normal\",fname)\n",
        "  dst = os.path.join(train_normal_dir, fname)\n",
        "  shutil.copyfile(src, dst)"
      ]
    },
    {
      "cell_type": "code",
      "execution_count": 5,
      "metadata": {
        "id": "l5gHsBHhfwWa"
      },
      "outputs": [],
      "source": [
        "# Copy the remaining 33 images to validate_normal_dir\n",
        "fnames = ['normal ({}).png'.format(i) for i in range(101, 134)]\n",
        "for fname in fnames:\n",
        "  src = os.path.join(original_dataset+\"/normal\",fname)\n",
        "  dst = os.path.join(validate_normal_dir, fname)\n",
        "  shutil.copyfile(src, dst)\n",
        "fnames = ['normal ({})_mask.png'.format(i) for i in range(101, 134)]\n",
        "for fname in fnames:\n",
        "  src = os.path.join(original_dataset+\"/normal\",fname)\n",
        "  dst = os.path.join(validate_normal_dir, fname)\n",
        "  shutil.copyfile(src, dst)"
      ]
    },
    {
      "cell_type": "code",
      "execution_count": 6,
      "metadata": {
        "id": "ukTJ9rH-gz2j"
      },
      "outputs": [],
      "source": [
        "# Benign Data\n",
        "# Copy the first 300 images to train_benign_dir\n",
        "fnames = ['benign ({}).png'.format(i) for i in range(1, 301)]\n",
        "for fname in fnames:\n",
        "  src = os.path.join(original_dataset+\"/benign\",fname)\n",
        "  dst = os.path.join(train_benign_dir, fname)\n",
        "  if(os.path.exists(src)):\n",
        "    shutil.copyfile(src, dst)\n",
        "fnames = ['benign ({})_mask.png'.format(i) for i in range(1, 301)]\n",
        "for fname in fnames:\n",
        "  src = os.path.join(original_dataset+\"/benign\",fname)\n",
        "  dst = os.path.join(train_benign_dir, fname)\n",
        "  if(os.path.exists(src)):\n",
        "    shutil.copyfile(src, dst)\n"
      ]
    },
    {
      "cell_type": "code",
      "execution_count": 7,
      "metadata": {
        "id": "xANPWF_5jwyN"
      },
      "outputs": [],
      "source": [
        "# Copy the remaning 127 images to validate_benign_dir\n",
        "fnames = ['benign ({}).png'.format(i) for i in range(301, 438)]\n",
        "for fname in fnames:\n",
        "  src = os.path.join(original_dataset+\"/benign\",fname)\n",
        "  dst = os.path.join(validate_benign_dir, fname)\n",
        "  if(os.path.exists(src)):\n",
        "    shutil.copyfile(src, dst)\n",
        "fnames = ['benign ({})_mask.png'.format(i) for i in range(301, 438)]\n",
        "for fname in fnames:\n",
        "  src = os.path.join(original_dataset+\"/benign\",fname)\n",
        "  dst = os.path.join(validate_benign_dir, fname)\n",
        "  if(os.path.exists(src)):\n",
        "    shutil.copyfile(src, dst)"
      ]
    },
    {
      "cell_type": "code",
      "execution_count": 8,
      "metadata": {
        "id": "-KTJFiWKkGZ7"
      },
      "outputs": [],
      "source": [
        "# Malignant Data\n",
        "# Copy the first 150 images to train_malignant_dir\n",
        "fnames = ['malignant ({}).png'.format(i) for i in range(1, 151)]\n",
        "for fname in fnames:\n",
        "  src = os.path.join(original_dataset+\"/malignant\",fname)\n",
        "  dst = os.path.join(train_malignant_dir, fname)\n",
        "  if(os.path.exists(src)):\n",
        "    shutil.copyfile(src, dst)\n",
        "fnames = ['malignant ({})_mask.png'.format(i) for i in range(1, 151)]\n",
        "for fname in fnames:\n",
        "  src = os.path.join(original_dataset+\"/malignant\",fname)\n",
        "  dst = os.path.join(train_malignant_dir, fname)\n",
        "  if(os.path.exists(src)):\n",
        "    shutil.copyfile(src, dst)\n",
        "\n",
        "# Copy the remaining 121 images to validate_malignant_dir\n",
        "fnames = ['malignant ({}).png'.format(i) for i in range(151, 210)]\n",
        "for fname in fnames:\n",
        "  src = os.path.join(original_dataset+\"/malignant\",fname)\n",
        "  dst = os.path.join(validate_malignant_dir, fname)\n",
        "  if(os.path.exists(src)):\n",
        "    shutil.copyfile(src, dst)\n",
        "fnames = ['malignant ({})_mask.png'.format(i) for i in range(151, 210)]\n",
        "for fname in fnames:\n",
        "  src = os.path.join(original_dataset+\"/malignant\",fname)\n",
        "  dst = os.path.join(validate_malignant_dir, fname)\n",
        "  if(os.path.exists(src)):\n",
        "    shutil.copyfile(src, dst)\n"
      ]
    },
    {
      "cell_type": "code",
      "source": [
        "# Checking the total number of images in each split\n",
        "print('Total training normal images :', len(os.listdir(train_normal_dir)))\n",
        "print('Total training benign images: ', len(os.listdir(train_benign_dir)))\n",
        "print('Total training malignant images: ', len(os.listdir(train_malignant_dir)))\n",
        "print('======================================================================')\n",
        "print('Total validation normal images: ', len(os.listdir(validate_normal_dir)))\n",
        "print('Total validation benign images: ', len(os.listdir(validate_benign_dir)))\n",
        "print('Total validation malignant images: ', len(os.listdir(validate_malignant_dir)))"
      ],
      "metadata": {
        "colab": {
          "base_uri": "https://localhost:8080/"
        },
        "id": "77t5rJ5d9xII",
        "outputId": "4af36408-b9c9-4881-c833-472965c78182"
      },
      "execution_count": 9,
      "outputs": [
        {
          "output_type": "stream",
          "name": "stdout",
          "text": [
            "Total training normal images : 200\n",
            "Total training benign images:  600\n",
            "Total training malignant images:  300\n",
            "======================================================================\n",
            "Total validation normal images:  66\n",
            "Total validation benign images:  274\n",
            "Total validation malignant images:  118\n"
          ]
        }
      ]
    },
    {
      "cell_type": "markdown",
      "metadata": {
        "id": "bL_eI6U4NnhA"
      },
      "source": [
        "**Build the model**"
      ]
    },
    {
      "cell_type": "code",
      "execution_count": 10,
      "metadata": {
        "colab": {
          "base_uri": "https://localhost:8080/"
        },
        "id": "Q19oS9-VNgQJ",
        "outputId": "93c806a4-de49-4dcf-9a1b-b239281bc6bd"
      },
      "outputs": [
        {
          "output_type": "stream",
          "name": "stdout",
          "text": [
            "Model: \"sequential\"\n",
            "_________________________________________________________________\n",
            " Layer (type)                Output Shape              Param #   \n",
            "=================================================================\n",
            " conv2d (Conv2D)             (None, 148, 148, 32)      320       \n",
            "                                                                 \n",
            " max_pooling2d (MaxPooling2D  (None, 74, 74, 32)       0         \n",
            " )                                                               \n",
            "                                                                 \n",
            " conv2d_1 (Conv2D)           (None, 72, 72, 64)        18496     \n",
            "                                                                 \n",
            " max_pooling2d_1 (MaxPooling  (None, 36, 36, 64)       0         \n",
            " 2D)                                                             \n",
            "                                                                 \n",
            " conv2d_2 (Conv2D)           (None, 34, 34, 128)       73856     \n",
            "                                                                 \n",
            " max_pooling2d_2 (MaxPooling  (None, 17, 17, 128)      0         \n",
            " 2D)                                                             \n",
            "                                                                 \n",
            " conv2d_3 (Conv2D)           (None, 15, 15, 128)       147584    \n",
            "                                                                 \n",
            " max_pooling2d_3 (MaxPooling  (None, 7, 7, 128)        0         \n",
            " 2D)                                                             \n",
            "                                                                 \n",
            "=================================================================\n",
            "Total params: 240,256\n",
            "Trainable params: 240,256\n",
            "Non-trainable params: 0\n",
            "_________________________________________________________________\n"
          ]
        }
      ],
      "source": [
        "model = models.Sequential()\n",
        "model.add(layers.Conv2D(32, (3, 3), activation='relu', input_shape=(150,150,1)))\n",
        "model.add(layers.MaxPooling2D((2,2)))\n",
        "model.add(layers.Conv2D(64, (3, 3), activation='relu'))\n",
        "model.add(layers.MaxPooling2D((2,2)))\n",
        "model.add(layers.Conv2D(128, (3, 3), activation='relu'))\n",
        "model.add(layers.MaxPooling2D((2,2)))\n",
        "model.add(layers.Conv2D(128, (3, 3), activation='relu'))\n",
        "model.add(layers.MaxPooling2D((2,2)))\n",
        "model.summary()\n"
      ]
    },
    {
      "cell_type": "code",
      "execution_count": 11,
      "metadata": {
        "colab": {
          "base_uri": "https://localhost:8080/"
        },
        "id": "K74KHSx6PH8j",
        "outputId": "e3569b3f-3121-450a-d17e-cab7f7f4ff25"
      },
      "outputs": [
        {
          "output_type": "stream",
          "name": "stdout",
          "text": [
            "Model: \"sequential\"\n",
            "_________________________________________________________________\n",
            " Layer (type)                Output Shape              Param #   \n",
            "=================================================================\n",
            " conv2d (Conv2D)             (None, 148, 148, 32)      320       \n",
            "                                                                 \n",
            " max_pooling2d (MaxPooling2D  (None, 74, 74, 32)       0         \n",
            " )                                                               \n",
            "                                                                 \n",
            " conv2d_1 (Conv2D)           (None, 72, 72, 64)        18496     \n",
            "                                                                 \n",
            " max_pooling2d_1 (MaxPooling  (None, 36, 36, 64)       0         \n",
            " 2D)                                                             \n",
            "                                                                 \n",
            " conv2d_2 (Conv2D)           (None, 34, 34, 128)       73856     \n",
            "                                                                 \n",
            " max_pooling2d_2 (MaxPooling  (None, 17, 17, 128)      0         \n",
            " 2D)                                                             \n",
            "                                                                 \n",
            " conv2d_3 (Conv2D)           (None, 15, 15, 128)       147584    \n",
            "                                                                 \n",
            " max_pooling2d_3 (MaxPooling  (None, 7, 7, 128)        0         \n",
            " 2D)                                                             \n",
            "                                                                 \n",
            " flatten (Flatten)           (None, 6272)              0         \n",
            "                                                                 \n",
            " dropout (Dropout)           (None, 6272)              0         \n",
            "                                                                 \n",
            " dense (Dense)               (None, 64)                401472    \n",
            "                                                                 \n",
            " dense_1 (Dense)             (None, 3)                 195       \n",
            "                                                                 \n",
            "=================================================================\n",
            "Total params: 641,923\n",
            "Trainable params: 641,923\n",
            "Non-trainable params: 0\n",
            "_________________________________________________________________\n"
          ]
        }
      ],
      "source": [
        "model.add(layers.Flatten())\n",
        "model.add(layers.Dropout(0.5))\n",
        "model.add(layers.Dense(64, activation='relu'))\n",
        "model.add(layers.Dense(3, activation='softmax'))\n",
        "model.summary()"
      ]
    },
    {
      "cell_type": "code",
      "source": [
        "from keras import optimizers\n",
        "model.compile(optimizer=optimizers.Adam(learning_rate=0.001),loss='categorical_crossentropy',metrics=['accuracy'])"
      ],
      "metadata": {
        "id": "iSYycJBIqq3C"
      },
      "execution_count": 12,
      "outputs": []
    },
    {
      "cell_type": "markdown",
      "source": [
        "**Data** preprocessing"
      ],
      "metadata": {
        "id": "WoDpsKvErDGY"
      }
    },
    {
      "cell_type": "code",
      "source": [
        "#from keras.layers.preprocessing.image_preprocessing import TARGETS\n",
        "from keras.preprocessing.image import ImageDataGenerator\n",
        "train_datagen = ImageDataGenerator(rescale = 1./255)\n",
        "test_datagen = ImageDataGenerator(rescale = 1./255)\n",
        "\n",
        "train_generator = train_datagen.flow_from_directory(train_dir, target_size = (150, 150),batch_size = 50, class_mode = 'categorical', color_mode=\"grayscale\")\n",
        "validation_generator = test_datagen.flow_from_directory(validation_dir, target_size = (150, 150), batch_size = 50, class_mode = 'categorical', color_mode=\"grayscale\")\n",
        "\n",
        "\n"
      ],
      "metadata": {
        "colab": {
          "base_uri": "https://localhost:8080/"
        },
        "id": "zmYRar8dq_ol",
        "outputId": "e9779aca-8dd5-4cde-cd84-b1cdda392ec0"
      },
      "execution_count": 13,
      "outputs": [
        {
          "output_type": "stream",
          "name": "stdout",
          "text": [
            "Found 1100 images belonging to 3 classes.\n",
            "Found 458 images belonging to 3 classes.\n"
          ]
        }
      ]
    },
    {
      "cell_type": "code",
      "source": [
        "history = model.fit(train_generator, steps_per_epoch = 10, epochs = 20, validation_data = validation_generator, validation_steps = 10)"
      ],
      "metadata": {
        "colab": {
          "base_uri": "https://localhost:8080/"
        },
        "id": "zX_Mux76u-eN",
        "outputId": "5e4e62d9-2f9b-4f72-f7ef-1a8770cb9149"
      },
      "execution_count": 14,
      "outputs": [
        {
          "output_type": "stream",
          "name": "stdout",
          "text": [
            "Epoch 1/20\n",
            "10/10 [==============================] - 16s 600ms/step - loss: 0.9923 - accuracy: 0.5240 - val_loss: 0.8558 - val_accuracy: 0.5939\n",
            "Epoch 2/20\n",
            "10/10 [==============================] - 6s 636ms/step - loss: 0.8644 - accuracy: 0.5780 - val_loss: 0.8350 - val_accuracy: 0.5961\n",
            "Epoch 3/20\n",
            "10/10 [==============================] - 5s 488ms/step - loss: 0.8123 - accuracy: 0.5780 - val_loss: 0.8772 - val_accuracy: 0.5655\n",
            "Epoch 4/20\n",
            "10/10 [==============================] - 5s 510ms/step - loss: 0.8048 - accuracy: 0.5760 - val_loss: 0.8410 - val_accuracy: 0.5917\n",
            "Epoch 5/20\n",
            "10/10 [==============================] - 6s 628ms/step - loss: 0.7602 - accuracy: 0.5820 - val_loss: 0.7904 - val_accuracy: 0.5983\n",
            "Epoch 6/20\n",
            "10/10 [==============================] - 8s 820ms/step - loss: 0.7440 - accuracy: 0.6260 - val_loss: 0.8345 - val_accuracy: 0.6594\n",
            "Epoch 7/20\n",
            "10/10 [==============================] - 5s 476ms/step - loss: 0.7043 - accuracy: 0.6980 - val_loss: 0.8113 - val_accuracy: 0.6790\n",
            "Epoch 8/20\n",
            "10/10 [==============================] - 5s 527ms/step - loss: 0.6369 - accuracy: 0.7260 - val_loss: 0.8375 - val_accuracy: 0.6528\n",
            "Epoch 9/20\n",
            "10/10 [==============================] - 6s 569ms/step - loss: 0.6227 - accuracy: 0.7300 - val_loss: 0.8686 - val_accuracy: 0.6397\n",
            "Epoch 10/20\n",
            "10/10 [==============================] - 5s 478ms/step - loss: 0.6278 - accuracy: 0.7420 - val_loss: 0.7356 - val_accuracy: 0.6900\n",
            "Epoch 11/20\n",
            "10/10 [==============================] - 8s 817ms/step - loss: 0.5608 - accuracy: 0.7440 - val_loss: 0.7110 - val_accuracy: 0.7074\n",
            "Epoch 12/20\n",
            "10/10 [==============================] - 5s 483ms/step - loss: 0.5583 - accuracy: 0.7360 - val_loss: 0.7513 - val_accuracy: 0.6987\n",
            "Epoch 13/20\n",
            "10/10 [==============================] - 6s 645ms/step - loss: 0.5585 - accuracy: 0.7480 - val_loss: 0.7397 - val_accuracy: 0.6878\n",
            "Epoch 14/20\n",
            "10/10 [==============================] - 5s 480ms/step - loss: 0.4875 - accuracy: 0.7540 - val_loss: 0.7261 - val_accuracy: 0.7031\n",
            "Epoch 15/20\n",
            "10/10 [==============================] - 5s 494ms/step - loss: 0.4877 - accuracy: 0.7620 - val_loss: 0.7843 - val_accuracy: 0.7052\n",
            "Epoch 16/20\n",
            "10/10 [==============================] - 6s 613ms/step - loss: 0.5044 - accuracy: 0.7960 - val_loss: 0.7250 - val_accuracy: 0.7140\n",
            "Epoch 17/20\n",
            "10/10 [==============================] - 5s 501ms/step - loss: 0.4400 - accuracy: 0.8120 - val_loss: 0.8014 - val_accuracy: 0.6921\n",
            "Epoch 18/20\n",
            "10/10 [==============================] - 6s 579ms/step - loss: 0.4059 - accuracy: 0.8240 - val_loss: 0.7960 - val_accuracy: 0.6965\n",
            "Epoch 19/20\n",
            "10/10 [==============================] - 5s 485ms/step - loss: 0.3665 - accuracy: 0.8500 - val_loss: 0.7596 - val_accuracy: 0.7314\n",
            "Epoch 20/20\n",
            "10/10 [==============================] - 6s 646ms/step - loss: 0.3556 - accuracy: 0.8480 - val_loss: 0.7709 - val_accuracy: 0.7074\n"
          ]
        }
      ]
    },
    {
      "cell_type": "code",
      "source": [
        "# Visualize\n",
        "import matplotlib.pyplot as plt\n",
        "acc = history.history['accuracy']\n",
        "val_acc = history.history['val_accuracy']\n",
        "val_loss = history.history['val_accuracy']\n",
        "loss = history.history['loss']\n",
        "epochs = range(1, len(acc)+1)\n",
        "plt.plot(epochs, acc, 'bo', label='Training acc')\n",
        "plt.plot(epochs, val_acc, 'b', label='Validation acc')\n",
        "plt.title('Training and validation accuracy')\n",
        "plt.legend()\n",
        "plt.figure()\n",
        "plt.plot(epochs, loss, 'bo', label='Training loss')\n",
        "plt.plot(epochs, val_loss, 'b', label='Validation loss')\n",
        "plt.title('Training and validation loss')\n",
        "plt.legend()\n",
        "plt.show()\n",
        "\n",
        "\n"
      ],
      "metadata": {
        "colab": {
          "base_uri": "https://localhost:8080/",
          "height": 887
        },
        "id": "uJQl521BLWnK",
        "outputId": "f456c5cf-bcbe-4d9c-9d09-873182ee9a82"
      },
      "execution_count": 15,
      "outputs": [
        {
          "output_type": "display_data",
          "data": {
            "text/plain": [
              "<Figure size 640x480 with 1 Axes>"
            ],
            "image/png": "[encoded data removed]"
          },
          "metadata": {}
        },
        {
          "output_type": "display_data",
          "data": {
            "text/plain": [
              "<Figure size 640x480 with 1 Axes>"
            ],
            "image/png": "[encoded data removed]"
          },
          "metadata": {}
        }
      ]
    },
    {
      "cell_type": "markdown",
      "source": [
        "**Using a Pretrained Network - VGG 16**"
      ],
      "metadata": {
        "id": "XYYrapvcfNTv"
      }
    },
    {
      "cell_type": "code",
      "source": [
        "from keras.applications import VGG16\n",
        "from keras.layers import Input, Lambda\n",
        "import tensorflow as tf\n",
        "\n",
        "import numpy as np"
      ],
      "metadata": {
        "id": "ELc5X9IfsHE9"
      },
      "execution_count": 20,
      "outputs": []
    },
    {
      "cell_type": "code",
      "source": [
        "convolution_base = VGG16(weights = 'imagenet', include_top = False, input_shape = (150, 150, 3))\n",
        "# define input layer that will match the input shape of the VGG16 model\n",
        "input_layer = Input(shape = (150,150,1))\n",
        "# replicate the grayscale channel across all three color channels\n",
        "grayscale_input = Lambda(lambda x: tf.repeat(x, 3, axis=-1))(input_layer)\n",
        "conv_output = convolution_base(grayscale_input)\n",
        "\n"
      ],
      "metadata": {
        "id": "5g_wKDApfgpt"
      },
      "execution_count": 29,
      "outputs": []
    },
    {
      "cell_type": "code",
      "source": [
        "convolution_base.summary();"
      ],
      "metadata": {
        "id": "ykc3ndN5hns1"
      },
      "execution_count": null,
      "outputs": []
    },
    {
      "cell_type": "code",
      "source": [
        "import os\n",
        "import numpy as np\n",
        "from keras.preprocessing.image import ImageDataGenerator\n",
        "batch_size = 50"
      ],
      "metadata": {
        "id": "7azAGojuh2jv"
      },
      "execution_count": 23,
      "outputs": []
    },
    {
      "cell_type": "code",
      "source": [
        " # convert grayscale images to RGB\n",
        "def grayscale_to_rgb(images):\n",
        "  return np.repeat(images, 3, -1)"
      ],
      "metadata": {
        "id": "qtdRFiE0jb8h"
      },
      "execution_count": 30,
      "outputs": []
    },
    {
      "cell_type": "code",
      "source": [
        "def extract_features(directory, sample_count):\n",
        "  conv_output_shape = convolution_base.output_shape[1:]\n",
        "  #features =np.zeros(shape =  (sample_count, 4, 4, 512))\n",
        "  labels = np.zeros(shape = (sample_count))\n",
        "  features =np.zeros(shape =  (sample_count, np.prod(conv_output_shape)))\n",
        "  generator = train_datagen.flow_from_directory(train_dir, target_size = (150, 150), batch_size = batch_size, class_mode = 'categorical', color_mode = 'grayscale')\n",
        "  i = 0\n",
        "  for input_batch, labels_batch in generator:\n",
        "    features_batch = convolution_base.predict(grayscale_to_rgb(input_batch))\n",
        "     # reshape the features_batch to have 3 channels\n",
        "    features_batch = np.repeat(features_batch, 3, axis=-1)\n",
        "    features[i * batch_size : (i +1)*batch_size] = features_batch.reshape(batch_size, -1)\n",
        "    labels[i*batch_size: (i + 1)*batch_size] = labels_batch\n",
        "    i += 1\n",
        "    if i * batch_size >= sample_count:\n",
        "      break\n",
        "    return features, labels\n"
      ],
      "metadata": {
        "id": "KSzSYX9ZiD6L"
      },
      "execution_count": 46,
      "outputs": []
    },
    {
      "cell_type": "code",
      "source": [
        "#train_features, train_labels = extract_features(train_dir, 1100)\n",
        "#validation_features, validation_labels = extract_features(validation_dir, 458)\n",
        "\n"
      ],
      "metadata": {
        "id": "FDXoLk3QnwHy"
      },
      "execution_count": null,
      "outputs": []
    },
    {
      "cell_type": "code",
      "source": [
        "# Visualize\n",
        "import matplotlib.pyplot as plt\n",
        "acc = history.history['accuracy']\n",
        "val_acc = history.history['val_accuracy']\n",
        "val_loss = history.history['val_accuracy']\n",
        "loss = history.history['loss']\n",
        "epochs = range(1, len(acc)+1)\n",
        "plt.plot(epochs, acc, 'bo', label='Training acc')\n",
        "plt.plot(epochs, val_acc, 'b', label='Validation acc')\n",
        "plt.title('Training and validation accuracy')\n",
        "plt.legend()\n",
        "plt.figure()\n",
        "plt.plot(epochs, loss, 'bo', label='Training loss')\n",
        "plt.plot(epochs, val_loss, 'b', label='Validation loss')\n",
        "plt.title('Training and validation loss')\n",
        "plt.legend()\n",
        "plt.show()"
      ],
      "metadata": {
        "id": "nbVE07-xvmZQ"
      },
      "execution_count": null,
      "outputs": []
    }
  ],
  "metadata": {
    "colab": {
      "provenance": [],
      "mount_file_id": "1B20hgHIV5JGm6c51wmYtBhB3x8AZq1pI",
      "authorship_tag": "ABX9TyOdYGDsaDFkc/6yow2ZR4pX",
      "include_colab_link": true
    },
    "kernelspec": {
      "display_name": "Python 3",
      "name": "python3"
    },
    "language_info": {
      "name": "python"
    },
    "accelerator": "GPU",
    "gpuClass": "standard"
  },
  "nbformat": 4,
  "nbformat_minor": 0
}