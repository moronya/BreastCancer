{
  "nbformat": 4,
  "nbformat_minor": 0,
  "metadata": {
    "colab": {
      "provenance": [],
      "authorship_tag": "ABX9TyMiWKg+TrvABShVu2XcEl5t",
      "include_colab_link": true
    },
    "kernelspec": {
      "name": "python3",
      "display_name": "Python 3"
    },
    "language_info": {
      "name": "python"
    }
  },
  "cells": [
    {
      "cell_type": "markdown",
      "metadata": {
        "id": "view-in-github",
        "colab_type": "text"
      },
      "source": [
        "<a href=\"https://colab.research.google.com/github/moronya/BreastCancer/blob/develop/breastCancer.ipynb\" target=\"_parent\"><img src=\"https://colab.research.google.com/assets/colab-badge.svg\" alt=\"Open In Colab\"/></a>"
      ]
    },
    {
      "cell_type": "markdown",
      "source": [
        "import necessary libraries\n"
      ],
      "metadata": {
        "id": "63mckWRzK-Qu"
      }
    },
    {
      "cell_type": "code",
      "execution_count": 4,
      "metadata": {
        "id": "nQMof2AVK23Z",
        "colab": {
          "base_uri": "https://localhost:8080/"
        },
        "outputId": "45edf2ea-1d84-4669-e1a6-0880f9007fe6"
      },
      "outputs": [
        {
          "output_type": "stream",
          "name": "stdout",
          "text": [
            "Mounted at /content/gdrive\n"
          ]
        }
      ],
      "source": [
        "from tensorflow import keras\n",
        "from keras import layers, models\n",
        "import os, shutil\n",
        "from google.colab import drive\n",
        "drive.mount('/content/gdrive')"
      ]
    },
    {
      "cell_type": "code",
      "source": [
        "# load data from local disk and create partitions i.e train and validation folders\n",
        "original_dataset = \"/content/gdrive/My Drive/Breast Cancer Images\"\n",
        "base_dir = \"C:/Users/Amos/Documents/Models/Partitioned\" # The folder will store partitioned data\n",
        "os.makedirs(base_dir, exist_ok = True)\n",
        "train_dir = os.path.join(base_dir, \"training\")\n",
        "os.mkdir(train_dir)\n",
        "validation_dir = os.path.join(base_dir, \"validation\")\n",
        "os.mkdir(validation_dir)"
      ],
      "metadata": {
        "id": "_VN7XRgJUnAq"
      },
      "execution_count": 16,
      "outputs": []
    },
    {
      "cell_type": "code",
      "source": [
        "# Move data to their respective partitions\n",
        "train_normal_dir = os.path.join(train_dir, 'normal')\n",
        "os.mkdir(train_normal_dir)\n",
        "train_benign_dir = os.path.join(train_dir, 'benign')\n",
        "os.mkdir(train_benign_dir)\n",
        "train_malignant_dir = os.path.join(train_dir, 'malignant')\n",
        "os.mkdir(train_malignant_dir)\n",
        "\n",
        "validate_normal_dir = os.path.join(validation_dir, 'normal')\n",
        "os.mkdir(validate_normal_dir)\n",
        "validate_benign_dir = os.path.join(validation_dir, 'benign')\n",
        "os.mkdir(validate_benign_dir)\n",
        "validate_malignant_dir = os.path.join(validation_dir, 'malignant')\n",
        "os.mkdir(validate_malignant_dir)"
      ],
      "metadata": {
        "id": "4okpzPfSaue-"
      },
      "execution_count": 17,
      "outputs": []
    },
    {
      "cell_type": "code",
      "source": [
        "# Loading the data\n",
        "# Copy the first 100 images to train_normal_dir\n",
        "fnames = ['normal ({}).png'.format(i) for i in range(1, 101)]\n",
        "for fname in fnames:\n",
        "  src = os.path.join(original_dataset+\"/normal\",fname)\n",
        "  dst = os.path.join(train_normal_dir, fname)\n",
        "  shutil.copyfile(src, dst)\n",
        "fnames = ['normal ({})_mask.png'.format(i) for i in range(1, 101)]\n",
        "for fname in fnames:\n",
        "  src = os.path.join(original_dataset+\"/normal\",fname)\n",
        "  dst = os.path.join(train_normal_dir, fname)\n",
        "  shutil.copyfile(src, dst)"
      ],
      "metadata": {
        "id": "VMGJH-XqcxhA"
      },
      "execution_count": 21,
      "outputs": []
    },
    {
      "cell_type": "code",
      "source": [
        "# Copy the remaining 33 images to validate_normal_dir\n",
        "fnames = ['normal ({}).png'.format(i) for i in range(101, 133)]\n",
        "for fname in fnames:\n",
        "  src = os.path.join(original_dataset+\"/normal\",fname)\n",
        "  dst = os.path.join(validate_normal_dir, fname)\n",
        "  shutil.copyfile(src, dst)\n",
        "fnames = ['normal ({})_mask.png'.format(i) for i in range(101, 133)]\n",
        "for fname in fnames:\n",
        "  src = os.path.join(original_dataset+\"/normal\",fname)\n",
        "  dst = os.path.join(validate_normal_dir, fname)\n",
        "  shutil.copyfile(src, dst)"
      ],
      "metadata": {
        "id": "l5gHsBHhfwWa"
      },
      "execution_count": 23,
      "outputs": []
    },
    {
      "cell_type": "code",
      "source": [
        "# Benign Data\n",
        "# Copy the first 691 images to train_benign_dir\n",
        "fnames = ['benign ({}).png'.format(i) for i in range(1, 692)]\n",
        "for fname in fnames:\n",
        "  src = os.path.join(original_dataset+\"/benign\",fname)\n",
        "  dst = os.path.join(train_benign_dir, fname)\n",
        "  if(os.path.exists(src)):\n",
        "    shutil.copyfile(src, dst)\n",
        "fnames = ['benign ({})_mask.png'.format(i) for i in range(1, 692)]\n",
        "for fname in fnames:\n",
        "  src = os.path.join(original_dataset+\"/benign\",fname)\n",
        "  dst = os.path.join(train_benign_dir, fname)\n",
        "  if(os.path.exists(src)):\n",
        "    shutil.copyfile(src, dst)\n"
      ],
      "metadata": {
        "id": "ukTJ9rH-gz2j"
      },
      "execution_count": 26,
      "outputs": []
    },
    {
      "cell_type": "code",
      "source": [
        "# Copy the remaning 200 images to validate_benign_dir\n",
        "fnames = ['benign ({}).png'.format(i) for i in range(692, 892)]\n",
        "for fname in fnames:\n",
        "  src = os.path.join(original_dataset+\"/benign\",fname)\n",
        "  dst = os.path.join(validate_benign_dir, fname)\n",
        "  if(os.path.exists(src)):\n",
        "    shutil.copyfile(src, dst)\n",
        "fnames = ['benign ({})_mask.png'.format(i) for i in range(692, 892)]\n",
        "for fname in fnames:\n",
        "  src = os.path.join(original_dataset+\"/benign\",fname)\n",
        "  dst = os.path.join(validate_benign_dir, fname)\n",
        "  if(os.path.exists(src)):\n",
        "    shutil.copyfile(src, dst)"
      ],
      "metadata": {
        "id": "xANPWF_5jwyN"
      },
      "execution_count": 27,
      "outputs": []
    },
    {
      "cell_type": "code",
      "source": [
        "# Malignant Data\n",
        "# Copy the first 300 images to train_malignant_dir\n",
        "fnames = ['malignant ({}).png'.format(i) for i in range(1, 301)]\n",
        "for fname in fnames:\n",
        "  src = os.path.join(original_dataset+\"/malignant\",fname)\n",
        "  dst = os.path.join(train_malignant_dir, fname)\n",
        "  if(os.path.exists(src)):\n",
        "    shutil.copyfile(src, dst)\n",
        "fnames = ['malignant ({})_mask.png'.format(i) for i in range(1, 301)]\n",
        "for fname in fnames:\n",
        "  src = os.path.join(original_dataset+\"/malignant\",fname)\n",
        "  dst = os.path.join(train_malignant_dir, fname)\n",
        "  if(os.path.exists(src)):\n",
        "    shutil.copyfile(src, dst)\n",
        "\n",
        "# Copy the remaining 121 images to validate_malignant_dir\n",
        "fnames = ['malignant ({}).png'.format(i) for i in range(301, 422)]\n",
        "for fname in fnames:\n",
        "  src = os.path.join(original_dataset+\"/malignant\",fname)\n",
        "  dst = os.path.join(validate_malignant_dir, fname)\n",
        "  if(os.path.exists(src)):\n",
        "    shutil.copyfile(src, dst)\n",
        "fnames = ['malignant ({})_mask.png'.format(i) for i in range(301, 422)]\n",
        "for fname in fnames:\n",
        "  src = os.path.join(original_dataset+\"/malignant\",fname)\n",
        "  dst = os.path.join(validate_malignant_dir, fname)\n",
        "  if(os.path.exists(src)):\n",
        "    shutil.copyfile(src, dst)\n"
      ],
      "metadata": {
        "id": "-KTJFiWKkGZ7"
      },
      "execution_count": 28,
      "outputs": []
    },
    {
      "cell_type": "markdown",
      "source": [
        "Load and preprocess data\n"
      ],
      "metadata": {
        "id": "HpkMzwZqLIku"
      }
    },
    {
      "cell_type": "code",
      "source": [
        "train_data = keras.preprocessing.image.ImageDataGenerator(1./255)\n",
        "test_data = keras.preprocessing.image.ImageDataGenerator(1./255)"
      ],
      "metadata": {
        "id": "CR116IwjLGxB"
      },
      "execution_count": null,
      "outputs": []
    },
    {
      "cell_type": "markdown",
      "source": [
        "Load data from Local Disk/Drive"
      ],
      "metadata": {
        "id": "9O2ydD5YMsFX"
      }
    },
    {
      "cell_type": "code",
      "source": [
        "train_generator = train_data.flow_from_directory(\n",
        "    'cancer/train',\n",
        "    target_size = (150, 150),\n",
        "    class_mode = 'binary',\n",
        "    batch_size = 32\n",
        ")\n",
        "validation_generator = test_data.flow_from_directory(\n",
        "    'cancer/test',\n",
        "    target_size = (150, 150),\n",
        "    class_mode = 'binary',\n",
        "    batch_size = 32\n",
        ")"
      ],
      "metadata": {
        "id": "bdLrJXIRMJd6"
      },
      "execution_count": null,
      "outputs": []
    },
    {
      "cell_type": "markdown",
      "source": [
        "**Build the model**"
      ],
      "metadata": {
        "id": "bL_eI6U4NnhA"
      }
    },
    {
      "cell_type": "code",
      "source": [
        "model = models.Sequential()\n",
        "model.add(layers.Conv2D(32, (3, 3), activation='relu', input_shape=(28,28,1)))\n",
        "model.add(layers.MaxPooling2D((2,2)))\n",
        "model.add(layers.Conv2D(64, (3, 3), activation='relu'))\n",
        "model.add(layers.MaxPooling2D((2,2)))\n",
        "model.add(layers.Conv2D(128, (3, 3), activation='relu'))\n",
        "model.add(layers.MaxPooling2D((2,2)))\n",
        "model.summary()\n"
      ],
      "metadata": {
        "colab": {
          "base_uri": "https://localhost:8080/"
        },
        "id": "Q19oS9-VNgQJ",
        "outputId": "cf0d5bcb-f8ef-464d-d33e-43fd94b57de6"
      },
      "execution_count": null,
      "outputs": [
        {
          "output_type": "stream",
          "name": "stdout",
          "text": [
            "Model: \"sequential\"\n",
            "_________________________________________________________________\n",
            " Layer (type)                Output Shape              Param #   \n",
            "=================================================================\n",
            " conv2d (Conv2D)             (None, 26, 26, 32)        320       \n",
            "                                                                 \n",
            " max_pooling2d (MaxPooling2D  (None, 13, 13, 32)       0         \n",
            " )                                                               \n",
            "                                                                 \n",
            " conv2d_1 (Conv2D)           (None, 11, 11, 64)        18496     \n",
            "                                                                 \n",
            " max_pooling2d_1 (MaxPooling  (None, 5, 5, 64)         0         \n",
            " 2D)                                                             \n",
            "                                                                 \n",
            " conv2d_2 (Conv2D)           (None, 3, 3, 128)         73856     \n",
            "                                                                 \n",
            " max_pooling2d_2 (MaxPooling  (None, 1, 1, 128)        0         \n",
            " 2D)                                                             \n",
            "                                                                 \n",
            "=================================================================\n",
            "Total params: 92,672\n",
            "Trainable params: 92,672\n",
            "Non-trainable params: 0\n",
            "_________________________________________________________________\n"
          ]
        }
      ]
    },
    {
      "cell_type": "code",
      "source": [
        "model.add(layers.Flatten())\n",
        "model.add(layers.Dense(64, activation='relu'))\n",
        "model.add(layers.Dense(2, activation='sigmoid'))\n",
        "model.summary()"
      ],
      "metadata": {
        "colab": {
          "base_uri": "https://localhost:8080/"
        },
        "id": "K74KHSx6PH8j",
        "outputId": "663be14d-cdf2-46cc-9913-e10c068e14a6"
      },
      "execution_count": null,
      "outputs": [
        {
          "output_type": "stream",
          "name": "stdout",
          "text": [
            "Model: \"sequential\"\n",
            "_________________________________________________________________\n",
            " Layer (type)                Output Shape              Param #   \n",
            "=================================================================\n",
            " conv2d (Conv2D)             (None, 26, 26, 32)        320       \n",
            "                                                                 \n",
            " max_pooling2d (MaxPooling2D  (None, 13, 13, 32)       0         \n",
            " )                                                               \n",
            "                                                                 \n",
            " conv2d_1 (Conv2D)           (None, 11, 11, 64)        18496     \n",
            "                                                                 \n",
            " max_pooling2d_1 (MaxPooling  (None, 5, 5, 64)         0         \n",
            " 2D)                                                             \n",
            "                                                                 \n",
            " conv2d_2 (Conv2D)           (None, 3, 3, 128)         73856     \n",
            "                                                                 \n",
            " max_pooling2d_2 (MaxPooling  (None, 1, 1, 128)        0         \n",
            " 2D)                                                             \n",
            "                                                                 \n",
            " flatten (Flatten)           (None, 128)               0         \n",
            "                                                                 \n",
            " dense (Dense)               (None, 64)                8256      \n",
            "                                                                 \n",
            " dense_1 (Dense)             (None, 2)                 130       \n",
            "                                                                 \n",
            "=================================================================\n",
            "Total params: 101,058\n",
            "Trainable params: 101,058\n",
            "Non-trainable params: 0\n",
            "_________________________________________________________________\n"
          ]
        }
      ]
    }
  ]
}