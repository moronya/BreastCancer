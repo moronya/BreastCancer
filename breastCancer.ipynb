{
  "cells": [
    {
      "cell_type": "markdown",
      "metadata": {
        "id": "view-in-github",
        "colab_type": "text"
      },
      "source": [
        "<a href=\"https://colab.research.google.com/github/moronya/BreastCancer/blob/develop/breastCancer.ipynb\" target=\"_parent\"><img src=\"https://colab.research.google.com/assets/colab-badge.svg\" alt=\"Open In Colab\"/></a>"
      ]
    },
    {
      "cell_type": "markdown",
      "metadata": {
        "id": "63mckWRzK-Qu"
      },
      "source": [
        "import necessary libraries\n"
      ]
    },
    {
      "cell_type": "code",
      "execution_count": 1,
      "metadata": {
        "colab": {
          "base_uri": "https://localhost:8080/"
        },
        "id": "nQMof2AVK23Z",
        "outputId": "ff737397-ee6d-461b-a252-a382675f5c31"
      },
      "outputs": [
        {
          "output_type": "stream",
          "name": "stdout",
          "text": [
            "Mounted at /content/gdrive\n"
          ]
        }
      ],
      "source": [
        "from tensorflow import keras\n",
        "from keras import layers, models\n",
        "import os, shutil\n",
        "from google.colab import drive\n",
        "drive.mount('/content/gdrive')"
      ]
    },
    {
      "cell_type": "code",
      "execution_count": 2,
      "metadata": {
        "id": "_VN7XRgJUnAq"
      },
      "outputs": [],
      "source": [
        "# load data from local disk and create partitions i.e train and validation folders\n",
        "original_dataset = \"/content/gdrive/My Drive/Breast Cancer Images\"\n",
        "base_dir = \"C:/Users/Amos/Documents/Models/Partitioned\" # The folder will store partitioned data\n",
        "os.makedirs(base_dir, exist_ok = True)\n",
        "train_dir = os.path.join(base_dir, \"training\")\n",
        "os.mkdir(train_dir)\n",
        "validation_dir = os.path.join(base_dir, \"validation\")\n",
        "os.mkdir(validation_dir)"
      ]
    },
    {
      "cell_type": "code",
      "execution_count": 3,
      "metadata": {
        "id": "4okpzPfSaue-"
      },
      "outputs": [],
      "source": [
        "# Move data to their respective partitions\n",
        "train_normal_dir = os.path.join(train_dir, 'normal')\n",
        "os.mkdir(train_normal_dir)\n",
        "train_benign_dir = os.path.join(train_dir, 'benign')\n",
        "os.mkdir(train_benign_dir)\n",
        "train_malignant_dir = os.path.join(train_dir, 'malignant')\n",
        "os.mkdir(train_malignant_dir)\n",
        "\n",
        "validate_normal_dir = os.path.join(validation_dir, 'normal')\n",
        "os.mkdir(validate_normal_dir)\n",
        "validate_benign_dir = os.path.join(validation_dir, 'benign')\n",
        "os.mkdir(validate_benign_dir)\n",
        "validate_malignant_dir = os.path.join(validation_dir, 'malignant')\n",
        "os.mkdir(validate_malignant_dir)"
      ]
    },
    {
      "cell_type": "code",
      "execution_count": 4,
      "metadata": {
        "id": "VMGJH-XqcxhA"
      },
      "outputs": [],
      "source": [
        "# Loading the data\n",
        "# Copy the first 100 images to train_normal_dir\n",
        "fnames = ['normal ({}).png'.format(i) for i in range(1, 101)]\n",
        "for fname in fnames:\n",
        "  src = os.path.join(original_dataset+\"/normal\",fname)\n",
        "  dst = os.path.join(train_normal_dir, fname)\n",
        "  shutil.copyfile(src, dst)\n",
        "fnames = ['normal ({})_mask.png'.format(i) for i in range(1, 101)]\n",
        "for fname in fnames:\n",
        "  src = os.path.join(original_dataset+\"/normal\",fname)\n",
        "  dst = os.path.join(train_normal_dir, fname)\n",
        "  shutil.copyfile(src, dst)"
      ]
    },
    {
      "cell_type": "code",
      "execution_count": 9,
      "metadata": {
        "id": "l5gHsBHhfwWa"
      },
      "outputs": [],
      "source": [
        "# Copy the remaining 33 images to validate_normal_dir\n",
        "fnames = ['normal ({}).png'.format(i) for i in range(101, 134)]\n",
        "for fname in fnames:\n",
        "  src = os.path.join(original_dataset+\"/normal\",fname)\n",
        "  dst = os.path.join(validate_normal_dir, fname)\n",
        "  shutil.copyfile(src, dst)\n",
        "fnames = ['normal ({})_mask.png'.format(i) for i in range(101, 134)]\n",
        "for fname in fnames:\n",
        "  src = os.path.join(original_dataset+\"/normal\",fname)\n",
        "  dst = os.path.join(validate_normal_dir, fname)\n",
        "  shutil.copyfile(src, dst)"
      ]
    },
    {
      "cell_type": "code",
      "execution_count": 10,
      "metadata": {
        "id": "ukTJ9rH-gz2j"
      },
      "outputs": [],
      "source": [
        "# Benign Data\n",
        "# Copy the first 300 images to train_benign_dir\n",
        "fnames = ['benign ({}).png'.format(i) for i in range(1, 301)]\n",
        "for fname in fnames:\n",
        "  src = os.path.join(original_dataset+\"/benign\",fname)\n",
        "  dst = os.path.join(train_benign_dir, fname)\n",
        "  if(os.path.exists(src)):\n",
        "    shutil.copyfile(src, dst)\n",
        "fnames = ['benign ({})_mask.png'.format(i) for i in range(1, 301)]\n",
        "for fname in fnames:\n",
        "  src = os.path.join(original_dataset+\"/benign\",fname)\n",
        "  dst = os.path.join(train_benign_dir, fname)\n",
        "  if(os.path.exists(src)):\n",
        "    shutil.copyfile(src, dst)\n"
      ]
    },
    {
      "cell_type": "code",
      "execution_count": 12,
      "metadata": {
        "id": "xANPWF_5jwyN"
      },
      "outputs": [],
      "source": [
        "# Copy the remaning 127 images to validate_benign_dir\n",
        "fnames = ['benign ({}).png'.format(i) for i in range(301, 438)]\n",
        "for fname in fnames:\n",
        "  src = os.path.join(original_dataset+\"/benign\",fname)\n",
        "  dst = os.path.join(validate_benign_dir, fname)\n",
        "  if(os.path.exists(src)):\n",
        "    shutil.copyfile(src, dst)\n",
        "fnames = ['benign ({})_mask.png'.format(i) for i in range(301, 438)]\n",
        "for fname in fnames:\n",
        "  src = os.path.join(original_dataset+\"/benign\",fname)\n",
        "  dst = os.path.join(validate_benign_dir, fname)\n",
        "  if(os.path.exists(src)):\n",
        "    shutil.copyfile(src, dst)"
      ]
    },
    {
      "cell_type": "code",
      "execution_count": 13,
      "metadata": {
        "id": "-KTJFiWKkGZ7"
      },
      "outputs": [],
      "source": [
        "# Malignant Data\n",
        "# Copy the first 150 images to train_malignant_dir\n",
        "fnames = ['malignant ({}).png'.format(i) for i in range(1, 151)]\n",
        "for fname in fnames:\n",
        "  src = os.path.join(original_dataset+\"/malignant\",fname)\n",
        "  dst = os.path.join(train_malignant_dir, fname)\n",
        "  if(os.path.exists(src)):\n",
        "    shutil.copyfile(src, dst)\n",
        "fnames = ['malignant ({})_mask.png'.format(i) for i in range(1, 151)]\n",
        "for fname in fnames:\n",
        "  src = os.path.join(original_dataset+\"/malignant\",fname)\n",
        "  dst = os.path.join(train_malignant_dir, fname)\n",
        "  if(os.path.exists(src)):\n",
        "    shutil.copyfile(src, dst)\n",
        "\n",
        "# Copy the remaining 121 images to validate_malignant_dir\n",
        "fnames = ['malignant ({}).png'.format(i) for i in range(151, 210)]\n",
        "for fname in fnames:\n",
        "  src = os.path.join(original_dataset+\"/malignant\",fname)\n",
        "  dst = os.path.join(validate_malignant_dir, fname)\n",
        "  if(os.path.exists(src)):\n",
        "    shutil.copyfile(src, dst)\n",
        "fnames = ['malignant ({})_mask.png'.format(i) for i in range(151, 210)]\n",
        "for fname in fnames:\n",
        "  src = os.path.join(original_dataset+\"/malignant\",fname)\n",
        "  dst = os.path.join(validate_malignant_dir, fname)\n",
        "  if(os.path.exists(src)):\n",
        "    shutil.copyfile(src, dst)\n"
      ]
    },
    {
      "cell_type": "code",
      "source": [
        "# Checking the total number of images in each split\n",
        "print('Total training normal images :', len(os.listdir(train_normal_dir)))\n",
        "print('Total training benign images: ', len(os.listdir(train_benign_dir)))\n",
        "print('Total training malignant images: ', len(os.listdir(train_malignant_dir)))\n",
        "print('======================================================================')\n",
        "print('Total validation normal images: ', len(os.listdir(validate_normal_dir)))\n",
        "print('Total validation benign images: ', len(os.listdir(validate_benign_dir)))\n",
        "print('Total validation malignant images: ', len(os.listdir(validate_malignant_dir)))"
      ],
      "metadata": {
        "colab": {
          "base_uri": "https://localhost:8080/"
        },
        "id": "77t5rJ5d9xII",
        "outputId": "db5531cf-5972-4f18-e5f1-a1531b3b3a29"
      },
      "execution_count": 14,
      "outputs": [
        {
          "output_type": "stream",
          "name": "stdout",
          "text": [
            "Total training normal images : 200\n",
            "Total training benign images:  600\n",
            "Total training malignant images:  300\n",
            "======================================================================\n",
            "Total validation normal images:  66\n",
            "Total validation benign images:  274\n",
            "Total validation malignant images:  118\n"
          ]
        }
      ]
    },
    {
      "cell_type": "markdown",
      "metadata": {
        "id": "bL_eI6U4NnhA"
      },
      "source": [
        "**Build the model**"
      ]
    },
    {
      "cell_type": "code",
      "execution_count": 15,
      "metadata": {
        "colab": {
          "base_uri": "https://localhost:8080/"
        },
        "id": "Q19oS9-VNgQJ",
        "outputId": "bf68bea6-688f-4dd9-f9e5-5c4736166af2"
      },
      "outputs": [
        {
          "output_type": "stream",
          "name": "stdout",
          "text": [
            "Model: \"sequential_1\"\n",
            "_________________________________________________________________\n",
            " Layer (type)                Output Shape              Param #   \n",
            "=================================================================\n",
            " conv2d_4 (Conv2D)           (None, 148, 148, 32)      320       \n",
            "                                                                 \n",
            " max_pooling2d_4 (MaxPooling  (None, 74, 74, 32)       0         \n",
            " 2D)                                                             \n",
            "                                                                 \n",
            " conv2d_5 (Conv2D)           (None, 72, 72, 64)        18496     \n",
            "                                                                 \n",
            " max_pooling2d_5 (MaxPooling  (None, 36, 36, 64)       0         \n",
            " 2D)                                                             \n",
            "                                                                 \n",
            " conv2d_6 (Conv2D)           (None, 34, 34, 128)       73856     \n",
            "                                                                 \n",
            " max_pooling2d_6 (MaxPooling  (None, 17, 17, 128)      0         \n",
            " 2D)                                                             \n",
            "                                                                 \n",
            " conv2d_7 (Conv2D)           (None, 15, 15, 128)       147584    \n",
            "                                                                 \n",
            " max_pooling2d_7 (MaxPooling  (None, 7, 7, 128)        0         \n",
            " 2D)                                                             \n",
            "                                                                 \n",
            "=================================================================\n",
            "Total params: 240,256\n",
            "Trainable params: 240,256\n",
            "Non-trainable params: 0\n",
            "_________________________________________________________________\n"
          ]
        }
      ],
      "source": [
        "model = models.Sequential()\n",
        "model.add(layers.Conv2D(32, (3, 3), activation='relu', input_shape=(150,150,1)))\n",
        "model.add(layers.MaxPooling2D((2,2)))\n",
        "model.add(layers.Conv2D(64, (3, 3), activation='relu'))\n",
        "model.add(layers.MaxPooling2D((2,2)))\n",
        "model.add(layers.Conv2D(128, (3, 3), activation='relu'))\n",
        "model.add(layers.MaxPooling2D((2,2)))\n",
        "model.add(layers.Conv2D(128, (3, 3), activation='relu'))\n",
        "model.add(layers.MaxPooling2D((2,2)))\n",
        "model.summary()\n"
      ]
    },
    {
      "cell_type": "code",
      "execution_count": 16,
      "metadata": {
        "colab": {
          "base_uri": "https://localhost:8080/"
        },
        "id": "K74KHSx6PH8j",
        "outputId": "43d6bd99-8497-4ec7-d838-8df3ccb0c807"
      },
      "outputs": [
        {
          "output_type": "stream",
          "name": "stdout",
          "text": [
            "Model: \"sequential_1\"\n",
            "_________________________________________________________________\n",
            " Layer (type)                Output Shape              Param #   \n",
            "=================================================================\n",
            " conv2d_4 (Conv2D)           (None, 148, 148, 32)      320       \n",
            "                                                                 \n",
            " max_pooling2d_4 (MaxPooling  (None, 74, 74, 32)       0         \n",
            " 2D)                                                             \n",
            "                                                                 \n",
            " conv2d_5 (Conv2D)           (None, 72, 72, 64)        18496     \n",
            "                                                                 \n",
            " max_pooling2d_5 (MaxPooling  (None, 36, 36, 64)       0         \n",
            " 2D)                                                             \n",
            "                                                                 \n",
            " conv2d_6 (Conv2D)           (None, 34, 34, 128)       73856     \n",
            "                                                                 \n",
            " max_pooling2d_6 (MaxPooling  (None, 17, 17, 128)      0         \n",
            " 2D)                                                             \n",
            "                                                                 \n",
            " conv2d_7 (Conv2D)           (None, 15, 15, 128)       147584    \n",
            "                                                                 \n",
            " max_pooling2d_7 (MaxPooling  (None, 7, 7, 128)        0         \n",
            " 2D)                                                             \n",
            "                                                                 \n",
            " flatten_1 (Flatten)         (None, 6272)              0         \n",
            "                                                                 \n",
            " dropout_1 (Dropout)         (None, 6272)              0         \n",
            "                                                                 \n",
            " dense_2 (Dense)             (None, 64)                401472    \n",
            "                                                                 \n",
            " dense_3 (Dense)             (None, 3)                 195       \n",
            "                                                                 \n",
            "=================================================================\n",
            "Total params: 641,923\n",
            "Trainable params: 641,923\n",
            "Non-trainable params: 0\n",
            "_________________________________________________________________\n"
          ]
        }
      ],
      "source": [
        "model.add(layers.Flatten())\n",
        "model.add(layers.Dropout(0.5))\n",
        "model.add(layers.Dense(64, activation='relu'))\n",
        "model.add(layers.Dense(3, activation='softmax'))\n",
        "model.summary()"
      ]
    },
    {
      "cell_type": "code",
      "source": [
        "from keras import optimizers\n",
        "model.compile(optimizer=optimizers.Adam(learning_rate=0.001),loss='categorical_crossentropy',metrics=['accuracy'])"
      ],
      "metadata": {
        "id": "iSYycJBIqq3C"
      },
      "execution_count": 17,
      "outputs": []
    },
    {
      "cell_type": "markdown",
      "source": [
        "Data preprocessing"
      ],
      "metadata": {
        "id": "WoDpsKvErDGY"
      }
    },
    {
      "cell_type": "code",
      "source": [
        "from keras.layers.preprocessing.image_preprocessing import TARGETS\n",
        "from keras.preprocessing.image import ImageDataGenerator\n",
        "train_datagen = ImageDataGenerator(rescale = 1./255)\n",
        "test_datagen = ImageDataGenerator(rescale = 1./255)\n",
        "\n",
        "train_generator = train_datagen.flow_from_directory(train_dir, target_size = (150, 150),batch_size = 50, class_mode = 'categorical', color_mode=\"grayscale\")\n",
        "validation_generator = test_datagen.flow_from_directory(validation_dir, target_size = (150, 150), batch_size = 50, class_mode = 'categorical', color_mode=\"grayscale\")\n",
        "\n",
        "\n"
      ],
      "metadata": {
        "colab": {
          "base_uri": "https://localhost:8080/"
        },
        "id": "zmYRar8dq_ol",
        "outputId": "ef6951b0-08a9-4fae-d90a-387412581b1f"
      },
      "execution_count": 18,
      "outputs": [
        {
          "output_type": "stream",
          "name": "stdout",
          "text": [
            "Found 1100 images belonging to 3 classes.\n",
            "Found 458 images belonging to 3 classes.\n"
          ]
        }
      ]
    },
    {
      "cell_type": "code",
      "source": [
        "history = model.fit(train_generator, steps_per_epoch = 10, epochs = 20, validation_data = validation_generator, validation_steps = 10)"
      ],
      "metadata": {
        "colab": {
          "base_uri": "https://localhost:8080/"
        },
        "id": "zX_Mux76u-eN",
        "outputId": "8eb14a6b-ffcc-4978-f827-7edce2976fa5"
      },
      "execution_count": 19,
      "outputs": [
        {
          "output_type": "stream",
          "name": "stdout",
          "text": [
            "Epoch 1/20\n",
            "10/10 [==============================] - 37s 3s/step - loss: 1.0253 - accuracy: 0.4800 - val_loss: 0.8659 - val_accuracy: 0.5983\n",
            "Epoch 2/20\n",
            "10/10 [==============================] - 37s 4s/step - loss: 0.8981 - accuracy: 0.5120 - val_loss: 0.8437 - val_accuracy: 0.5677\n",
            "Epoch 3/20\n",
            "10/10 [==============================] - 33s 3s/step - loss: 0.8323 - accuracy: 0.5420 - val_loss: 0.8582 - val_accuracy: 0.5655\n",
            "Epoch 4/20\n",
            "10/10 [==============================] - 34s 4s/step - loss: 0.7841 - accuracy: 0.5700 - val_loss: 0.9096 - val_accuracy: 0.5590\n",
            "Epoch 5/20\n",
            "10/10 [==============================] - 35s 4s/step - loss: 0.7526 - accuracy: 0.5860 - val_loss: 0.8394 - val_accuracy: 0.5830\n",
            "Epoch 6/20\n",
            "10/10 [==============================] - 34s 3s/step - loss: 0.6896 - accuracy: 0.6680 - val_loss: 0.8229 - val_accuracy: 0.6790\n",
            "Epoch 7/20\n",
            "10/10 [==============================] - 36s 4s/step - loss: 0.6161 - accuracy: 0.7320 - val_loss: 0.7715 - val_accuracy: 0.6594\n",
            "Epoch 8/20\n",
            "10/10 [==============================] - 37s 4s/step - loss: 0.6573 - accuracy: 0.7080 - val_loss: 0.7496 - val_accuracy: 0.6900\n",
            "Epoch 9/20\n",
            "10/10 [==============================] - 33s 3s/step - loss: 0.6026 - accuracy: 0.7460 - val_loss: 0.7678 - val_accuracy: 0.6878\n",
            "Epoch 10/20\n",
            "10/10 [==============================] - 37s 4s/step - loss: 0.5879 - accuracy: 0.7400 - val_loss: 0.7617 - val_accuracy: 0.6856\n",
            "Epoch 11/20\n",
            "10/10 [==============================] - 35s 4s/step - loss: 0.5717 - accuracy: 0.7160 - val_loss: 0.7753 - val_accuracy: 0.6507\n",
            "Epoch 12/20\n",
            "10/10 [==============================] - 33s 3s/step - loss: 0.6118 - accuracy: 0.7240 - val_loss: 1.0083 - val_accuracy: 0.5459\n",
            "Epoch 13/20\n",
            "10/10 [==============================] - 41s 4s/step - loss: 0.6588 - accuracy: 0.7120 - val_loss: 0.7016 - val_accuracy: 0.6987\n",
            "Epoch 14/20\n",
            "10/10 [==============================] - 35s 4s/step - loss: 0.5715 - accuracy: 0.7480 - val_loss: 0.7305 - val_accuracy: 0.6856\n",
            "Epoch 15/20\n",
            "10/10 [==============================] - 35s 4s/step - loss: 0.4947 - accuracy: 0.7840 - val_loss: 0.7670 - val_accuracy: 0.6790\n",
            "Epoch 16/20\n",
            "10/10 [==============================] - 34s 3s/step - loss: 0.4933 - accuracy: 0.7880 - val_loss: 0.8067 - val_accuracy: 0.6572\n",
            "Epoch 17/20\n",
            "10/10 [==============================] - 33s 3s/step - loss: 0.4715 - accuracy: 0.7580 - val_loss: 0.7754 - val_accuracy: 0.6878\n",
            "Epoch 18/20\n",
            "10/10 [==============================] - 33s 3s/step - loss: 0.3866 - accuracy: 0.8280 - val_loss: 0.7253 - val_accuracy: 0.7358\n",
            "Epoch 19/20\n",
            "10/10 [==============================] - 33s 3s/step - loss: 0.4213 - accuracy: 0.8360 - val_loss: 0.8102 - val_accuracy: 0.6550\n",
            "Epoch 20/20\n",
            "10/10 [==============================] - 36s 4s/step - loss: 0.3841 - accuracy: 0.8220 - val_loss: 0.7998 - val_accuracy: 0.6965\n"
          ]
        }
      ]
    },
    {
      "cell_type": "code",
      "source": [
        "# Visualize\n",
        "import matplotlib.pyplot as plt\n",
        "acc = history.history['accuracy']\n",
        "val_acc = history.history['val_accuracy']\n",
        "val_loss = history.history['val_accuracy']\n",
        "loss = history.history['loss']\n",
        "epochs = range(1, len(acc)+1)\n",
        "plt.plot(epochs, acc, 'bo', label='Training acc')\n",
        "plt.plot(epochs, val_acc, 'b', label='Validation acc')\n",
        "plt.title('Training and validation accuracy')\n",
        "plt.legend()\n",
        "plt.figure()\n",
        "plt.plot(epochs, loss, 'bo', label='Training loss')\n",
        "plt.plot(epochs, val_loss, 'b', label='Validation loss')\n",
        "plt.title('Training and validation loss')\n",
        "plt.legend()\n",
        "plt.show()\n",
        "\n",
        "\n"
      ],
      "metadata": {
        "colab": {
          "base_uri": "https://localhost:8080/",
          "height": 545
        },
        "id": "uJQl521BLWnK",
        "outputId": "5a51d6c4-4daa-4635-adc1-1a86fdb0b67e"
      },
      "execution_count": 20,
      "outputs": [
        {
          "output_type": "display_data",
          "data": {
            "text/plain": [
              "<Figure size 432x288 with 1 Axes>"
            ],
            "image/png": "[encoded data removed]"
          },
          "metadata": {
            "needs_background": "light"
          }
        },
        {
          "output_type": "display_data",
          "data": {
            "text/plain": [
              "<Figure size 432x288 with 1 Axes>"
            ],
            "image/png": "[encoded data removed]"
          },
          "metadata": {
            "needs_background": "light"
          }
        }
      ]
    }
  ],
  "metadata": {
    "colab": {
      "provenance": [],
      "mount_file_id": "1B20hgHIV5JGm6c51wmYtBhB3x8AZq1pI",
      "authorship_tag": "ABX9TyOVcrYtROLZ43gLDXjb+6Ls",
      "include_colab_link": true
    },
    "kernelspec": {
      "display_name": "Python 3",
      "name": "python3"
    },
    "language_info": {
      "name": "python"
    }
  },
  "nbformat": 4,
  "nbformat_minor": 0
}