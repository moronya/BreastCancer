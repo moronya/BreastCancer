{
  "cells": [
    {
      "cell_type": "markdown",
      "metadata": {
        "id": "view-in-github",
        "colab_type": "text"
      },
      "source": [
        "<a href=\"https://colab.research.google.com/github/moronya/BreastCancer/blob/develop/breastCancer.ipynb\" target=\"_parent\"><img src=\"https://colab.research.google.com/assets/colab-badge.svg\" alt=\"Open In Colab\"/></a>"
      ]
    },
    {
      "cell_type": "markdown",
      "metadata": {
        "id": "63mckWRzK-Qu"
      },
      "source": [
        "import necessary libraries\n"
      ]
    },
    {
      "cell_type": "code",
      "execution_count": null,
      "metadata": {
        "colab": {
          "base_uri": "https://localhost:8080/"
        },
        "id": "nQMof2AVK23Z",
        "outputId": "677a4d5c-fd7a-4b01-a7dd-c926165c8e8f"
      },
      "outputs": [
        {
          "output_type": "stream",
          "name": "stdout",
          "text": [
            "Mounted at /content/gdrive\n"
          ]
        }
      ],
      "source": [
        "from tensorflow import keras\n",
        "from keras import layers, models\n",
        "import os, shutil\n",
        "from google.colab import drive\n",
        "drive.mount('/content/gdrive')"
      ]
    },
    {
      "cell_type": "code",
      "execution_count": null,
      "metadata": {
        "id": "_VN7XRgJUnAq"
      },
      "outputs": [],
      "source": [
        "# load data from local disk and create partitions i.e train and validation folders\n",
        "original_dataset = \"/content/gdrive/My Drive/Breast Cancer Images\"\n",
        "base_dir = \"C:/Users/Amos/Documents/Models/Partitioned\" # The folder will store partitioned data\n",
        "os.makedirs(base_dir, exist_ok = True)\n",
        "train_dir = os.path.join(base_dir, \"training\")\n",
        "os.mkdir(train_dir)\n",
        "validation_dir = os.path.join(base_dir, \"validation\")\n",
        "os.mkdir(validation_dir)"
      ]
    },
    {
      "cell_type": "code",
      "execution_count": null,
      "metadata": {
        "id": "4okpzPfSaue-"
      },
      "outputs": [],
      "source": [
        "# Move data to their respective partitions\n",
        "train_normal_dir = os.path.join(train_dir, 'normal')\n",
        "os.mkdir(train_normal_dir)\n",
        "train_benign_dir = os.path.join(train_dir, 'benign')\n",
        "os.mkdir(train_benign_dir)\n",
        "train_malignant_dir = os.path.join(train_dir, 'malignant')\n",
        "os.mkdir(train_malignant_dir)\n",
        "\n",
        "validate_normal_dir = os.path.join(validation_dir, 'normal')\n",
        "os.mkdir(validate_normal_dir)\n",
        "validate_benign_dir = os.path.join(validation_dir, 'benign')\n",
        "os.mkdir(validate_benign_dir)\n",
        "validate_malignant_dir = os.path.join(validation_dir, 'malignant')\n",
        "os.mkdir(validate_malignant_dir)"
      ]
    },
    {
      "cell_type": "code",
      "execution_count": null,
      "metadata": {
        "id": "VMGJH-XqcxhA"
      },
      "outputs": [],
      "source": [
        "# Loading the data\n",
        "# Copy the first 100 images to train_normal_dir\n",
        "fnames = ['normal ({}).png'.format(i) for i in range(1, 101)]\n",
        "for fname in fnames:\n",
        "  src = os.path.join(original_dataset+\"/normal\",fname)\n",
        "  dst = os.path.join(train_normal_dir, fname)\n",
        "  shutil.copyfile(src, dst)\n",
        "fnames = ['normal ({})_mask.png'.format(i) for i in range(1, 101)]\n",
        "for fname in fnames:\n",
        "  src = os.path.join(original_dataset+\"/normal\",fname)\n",
        "  dst = os.path.join(train_normal_dir, fname)\n",
        "  shutil.copyfile(src, dst)"
      ]
    },
    {
      "cell_type": "code",
      "execution_count": null,
      "metadata": {
        "id": "l5gHsBHhfwWa"
      },
      "outputs": [],
      "source": [
        "# Copy the remaining 33 images to validate_normal_dir\n",
        "fnames = ['normal ({}).png'.format(i) for i in range(101, 134)]\n",
        "for fname in fnames:\n",
        "  src = os.path.join(original_dataset+\"/normal\",fname)\n",
        "  dst = os.path.join(validate_normal_dir, fname)\n",
        "  shutil.copyfile(src, dst)\n",
        "fnames = ['normal ({})_mask.png'.format(i) for i in range(101, 134)]\n",
        "for fname in fnames:\n",
        "  src = os.path.join(original_dataset+\"/normal\",fname)\n",
        "  dst = os.path.join(validate_normal_dir, fname)\n",
        "  shutil.copyfile(src, dst)"
      ]
    },
    {
      "cell_type": "code",
      "execution_count": null,
      "metadata": {
        "id": "ukTJ9rH-gz2j"
      },
      "outputs": [],
      "source": [
        "# Benign Data\n",
        "# Copy the first 300 images to train_benign_dir\n",
        "fnames = ['benign ({}).png'.format(i) for i in range(1, 301)]\n",
        "for fname in fnames:\n",
        "  src = os.path.join(original_dataset+\"/benign\",fname)\n",
        "  dst = os.path.join(train_benign_dir, fname)\n",
        "  if(os.path.exists(src)):\n",
        "    shutil.copyfile(src, dst)\n",
        "fnames = ['benign ({})_mask.png'.format(i) for i in range(1, 301)]\n",
        "for fname in fnames:\n",
        "  src = os.path.join(original_dataset+\"/benign\",fname)\n",
        "  dst = os.path.join(train_benign_dir, fname)\n",
        "  if(os.path.exists(src)):\n",
        "    shutil.copyfile(src, dst)\n"
      ]
    },
    {
      "cell_type": "code",
      "execution_count": null,
      "metadata": {
        "id": "xANPWF_5jwyN"
      },
      "outputs": [],
      "source": [
        "# Copy the remaning 127 images to validate_benign_dir\n",
        "fnames = ['benign ({}).png'.format(i) for i in range(301, 438)]\n",
        "for fname in fnames:\n",
        "  src = os.path.join(original_dataset+\"/benign\",fname)\n",
        "  dst = os.path.join(validate_benign_dir, fname)\n",
        "  if(os.path.exists(src)):\n",
        "    shutil.copyfile(src, dst)\n",
        "fnames = ['benign ({})_mask.png'.format(i) for i in range(301, 438)]\n",
        "for fname in fnames:\n",
        "  src = os.path.join(original_dataset+\"/benign\",fname)\n",
        "  dst = os.path.join(validate_benign_dir, fname)\n",
        "  if(os.path.exists(src)):\n",
        "    shutil.copyfile(src, dst)"
      ]
    },
    {
      "cell_type": "code",
      "execution_count": null,
      "metadata": {
        "id": "-KTJFiWKkGZ7"
      },
      "outputs": [],
      "source": [
        "# Malignant Data\n",
        "# Copy the first 150 images to train_malignant_dir\n",
        "fnames = ['malignant ({}).png'.format(i) for i in range(1, 151)]\n",
        "for fname in fnames:\n",
        "  src = os.path.join(original_dataset+\"/malignant\",fname)\n",
        "  dst = os.path.join(train_malignant_dir, fname)\n",
        "  if(os.path.exists(src)):\n",
        "    shutil.copyfile(src, dst)\n",
        "fnames = ['malignant ({})_mask.png'.format(i) for i in range(1, 151)]\n",
        "for fname in fnames:\n",
        "  src = os.path.join(original_dataset+\"/malignant\",fname)\n",
        "  dst = os.path.join(train_malignant_dir, fname)\n",
        "  if(os.path.exists(src)):\n",
        "    shutil.copyfile(src, dst)\n",
        "\n",
        "# Copy the remaining 121 images to validate_malignant_dir\n",
        "fnames = ['malignant ({}).png'.format(i) for i in range(151, 210)]\n",
        "for fname in fnames:\n",
        "  src = os.path.join(original_dataset+\"/malignant\",fname)\n",
        "  dst = os.path.join(validate_malignant_dir, fname)\n",
        "  if(os.path.exists(src)):\n",
        "    shutil.copyfile(src, dst)\n",
        "fnames = ['malignant ({})_mask.png'.format(i) for i in range(151, 210)]\n",
        "for fname in fnames:\n",
        "  src = os.path.join(original_dataset+\"/malignant\",fname)\n",
        "  dst = os.path.join(validate_malignant_dir, fname)\n",
        "  if(os.path.exists(src)):\n",
        "    shutil.copyfile(src, dst)\n"
      ]
    },
    {
      "cell_type": "code",
      "source": [
        "# Checking the total number of images in each split\n",
        "print('Total training normal images :', len(os.listdir(train_normal_dir)))\n",
        "print('Total training benign images: ', len(os.listdir(train_benign_dir)))\n",
        "print('Total training malignant images: ', len(os.listdir(train_malignant_dir)))\n",
        "print('======================================================================')\n",
        "print('Total validation normal images: ', len(os.listdir(validate_normal_dir)))\n",
        "print('Total validation benign images: ', len(os.listdir(validate_benign_dir)))\n",
        "print('Total validation malignant images: ', len(os.listdir(validate_malignant_dir)))"
      ],
      "metadata": {
        "colab": {
          "base_uri": "https://localhost:8080/"
        },
        "id": "77t5rJ5d9xII",
        "outputId": "ec83529c-d942-4c2a-8177-26fe9b936035"
      },
      "execution_count": null,
      "outputs": [
        {
          "output_type": "stream",
          "name": "stdout",
          "text": [
            "Total training normal images : 200\n",
            "Total training benign images:  600\n",
            "Total training malignant images:  300\n",
            "======================================================================\n",
            "Total validation normal images:  66\n",
            "Total validation benign images:  274\n",
            "Total validation malignant images:  118\n"
          ]
        }
      ]
    },
    {
      "cell_type": "markdown",
      "metadata": {
        "id": "bL_eI6U4NnhA"
      },
      "source": [
        "**Build the model**"
      ]
    },
    {
      "cell_type": "code",
      "execution_count": null,
      "metadata": {
        "colab": {
          "base_uri": "https://localhost:8080/"
        },
        "id": "Q19oS9-VNgQJ",
        "outputId": "65448d4d-e5f0-4bd2-e0a0-2bb8de983a1e"
      },
      "outputs": [
        {
          "output_type": "stream",
          "name": "stdout",
          "text": [
            "Model: \"sequential_3\"\n",
            "_________________________________________________________________\n",
            " Layer (type)                Output Shape              Param #   \n",
            "=================================================================\n",
            " conv2d_9 (Conv2D)           (None, 148, 148, 32)      320       \n",
            "                                                                 \n",
            " max_pooling2d_9 (MaxPooling  (None, 74, 74, 32)       0         \n",
            " 2D)                                                             \n",
            "                                                                 \n",
            " conv2d_10 (Conv2D)          (None, 72, 72, 64)        18496     \n",
            "                                                                 \n",
            " max_pooling2d_10 (MaxPoolin  (None, 36, 36, 64)       0         \n",
            " g2D)                                                            \n",
            "                                                                 \n",
            " conv2d_11 (Conv2D)          (None, 34, 34, 128)       73856     \n",
            "                                                                 \n",
            " max_pooling2d_11 (MaxPoolin  (None, 17, 17, 128)      0         \n",
            " g2D)                                                            \n",
            "                                                                 \n",
            "=================================================================\n",
            "Total params: 92,672\n",
            "Trainable params: 92,672\n",
            "Non-trainable params: 0\n",
            "_________________________________________________________________\n"
          ]
        }
      ],
      "source": [
        "model = models.Sequential()\n",
        "model.add(layers.Conv2D(32, (3, 3), activation='relu', input_shape=(150,150,1)))\n",
        "model.add(layers.MaxPooling2D((2,2)))\n",
        "model.add(layers.Conv2D(64, (3, 3), activation='relu'))\n",
        "model.add(layers.MaxPooling2D((2,2)))\n",
        "model.add(layers.Conv2D(128, (3, 3), activation='relu'))\n",
        "model.add(layers.MaxPooling2D((2,2)))\n",
        "model.summary()\n"
      ]
    },
    {
      "cell_type": "code",
      "execution_count": null,
      "metadata": {
        "colab": {
          "base_uri": "https://localhost:8080/"
        },
        "id": "K74KHSx6PH8j",
        "outputId": "c23db32a-fbd5-46e1-a8de-a54df067b6fd"
      },
      "outputs": [
        {
          "output_type": "stream",
          "name": "stdout",
          "text": [
            "Model: \"sequential_3\"\n",
            "_________________________________________________________________\n",
            " Layer (type)                Output Shape              Param #   \n",
            "=================================================================\n",
            " conv2d_9 (Conv2D)           (None, 148, 148, 32)      320       \n",
            "                                                                 \n",
            " max_pooling2d_9 (MaxPooling  (None, 74, 74, 32)       0         \n",
            " 2D)                                                             \n",
            "                                                                 \n",
            " conv2d_10 (Conv2D)          (None, 72, 72, 64)        18496     \n",
            "                                                                 \n",
            " max_pooling2d_10 (MaxPoolin  (None, 36, 36, 64)       0         \n",
            " g2D)                                                            \n",
            "                                                                 \n",
            " conv2d_11 (Conv2D)          (None, 34, 34, 128)       73856     \n",
            "                                                                 \n",
            " max_pooling2d_11 (MaxPoolin  (None, 17, 17, 128)      0         \n",
            " g2D)                                                            \n",
            "                                                                 \n",
            " flatten_5 (Flatten)         (None, 36992)             0         \n",
            "                                                                 \n",
            " dense_10 (Dense)            (None, 64)                2367552   \n",
            "                                                                 \n",
            " dense_11 (Dense)            (None, 3)                 195       \n",
            "                                                                 \n",
            "=================================================================\n",
            "Total params: 2,460,419\n",
            "Trainable params: 2,460,419\n",
            "Non-trainable params: 0\n",
            "_________________________________________________________________\n"
          ]
        }
      ],
      "source": [
        "model.add(layers.Flatten())\n",
        "model.add(layers.Dense(64, activation='relu'))\n",
        "model.add(layers.Dense(3, activation='softmax'))\n",
        "model.summary()"
      ]
    },
    {
      "cell_type": "code",
      "source": [
        "from keras import optimizers\n",
        "model.compile(optimizer=optimizers.Adam(learning_rate=0.001),loss='categorical_crossentropy',metrics=['accuracy'])"
      ],
      "metadata": {
        "id": "iSYycJBIqq3C"
      },
      "execution_count": null,
      "outputs": []
    },
    {
      "cell_type": "markdown",
      "source": [
        "Data preprocessing"
      ],
      "metadata": {
        "id": "WoDpsKvErDGY"
      }
    },
    {
      "cell_type": "code",
      "source": [
        "from keras.layers.preprocessing.image_preprocessing import TARGETS\n",
        "from keras.preprocessing.image import ImageDataGenerator\n",
        "train_datagen = ImageDataGenerator(rescale = 1./255)\n",
        "test_datagen = ImageDataGenerator(rescale = 1./255)\n",
        "\n",
        "train_generator = train_datagen.flow_from_directory(train_dir, target_size = (150, 150),batch_size = 50, class_mode = 'categorical', color_mode=\"grayscale\")\n",
        "validation_generator = test_datagen.flow_from_directory(validation_dir, target_size = (150, 150), batch_size = 50, class_mode = 'categorical', color_mode=\"grayscale\")\n",
        "\n",
        "\n"
      ],
      "metadata": {
        "colab": {
          "base_uri": "https://localhost:8080/"
        },
        "id": "zmYRar8dq_ol",
        "outputId": "ae88626a-b68c-4197-8104-11d6843aefb9"
      },
      "execution_count": null,
      "outputs": [
        {
          "output_type": "stream",
          "name": "stdout",
          "text": [
            "Found 1100 images belonging to 3 classes.\n",
            "Found 458 images belonging to 3 classes.\n"
          ]
        }
      ]
    },
    {
      "cell_type": "code",
      "source": [
        "history = model.fit(train_generator, steps_per_epoch = 10, epochs = 20, validation_data = validation_generator, validation_steps = 10)"
      ],
      "metadata": {
        "colab": {
          "base_uri": "https://localhost:8080/"
        },
        "id": "zX_Mux76u-eN",
        "outputId": "9545b51f-a009-4485-afd4-a11687b3e290"
      },
      "execution_count": 53,
      "outputs": [
        {
          "output_type": "stream",
          "name": "stdout",
          "text": [
            "Epoch 1/20\n",
            "10/10 [==============================] - 68s 7s/step - loss: 0.0621 - accuracy: 0.9860 - val_loss: 2.4502 - val_accuracy: 0.6485\n",
            "Epoch 2/20\n",
            "10/10 [==============================] - 40s 4s/step - loss: 0.0282 - accuracy: 0.9940 - val_loss: 2.3735 - val_accuracy: 0.6659\n",
            "Epoch 3/20\n",
            "10/10 [==============================] - 42s 4s/step - loss: 0.0727 - accuracy: 0.9800 - val_loss: 2.5675 - val_accuracy: 0.6681\n",
            "Epoch 4/20\n",
            "10/10 [==============================] - 45s 5s/step - loss: 0.0461 - accuracy: 0.9840 - val_loss: 2.2135 - val_accuracy: 0.6681\n",
            "Epoch 5/20\n",
            "10/10 [==============================] - 38s 4s/step - loss: 0.0565 - accuracy: 0.9820 - val_loss: 2.2857 - val_accuracy: 0.6594\n",
            "Epoch 6/20\n",
            "10/10 [==============================] - 38s 4s/step - loss: 0.0554 - accuracy: 0.9840 - val_loss: 2.3618 - val_accuracy: 0.6332\n",
            "Epoch 7/20\n",
            "10/10 [==============================] - 38s 4s/step - loss: 0.0332 - accuracy: 0.9880 - val_loss: 2.7866 - val_accuracy: 0.6419\n",
            "Epoch 8/20\n",
            "10/10 [==============================] - 39s 4s/step - loss: 0.0466 - accuracy: 0.9920 - val_loss: 2.4351 - val_accuracy: 0.6747\n",
            "Epoch 9/20\n",
            "10/10 [==============================] - 39s 4s/step - loss: 0.0270 - accuracy: 0.9980 - val_loss: 2.4290 - val_accuracy: 0.6550\n",
            "Epoch 10/20\n",
            "10/10 [==============================] - 51s 5s/step - loss: 0.0217 - accuracy: 0.9900 - val_loss: 2.4143 - val_accuracy: 0.6528\n",
            "Epoch 11/20\n",
            "10/10 [==============================] - 41s 4s/step - loss: 0.0109 - accuracy: 0.9980 - val_loss: 2.5583 - val_accuracy: 0.6594\n",
            "Epoch 12/20\n",
            "10/10 [==============================] - 40s 4s/step - loss: 0.0224 - accuracy: 0.9920 - val_loss: 2.5296 - val_accuracy: 0.6725\n",
            "Epoch 13/20\n",
            "10/10 [==============================] - 38s 4s/step - loss: 0.0157 - accuracy: 0.9960 - val_loss: 2.5192 - val_accuracy: 0.6419\n",
            "Epoch 14/20\n",
            "10/10 [==============================] - 48s 5s/step - loss: 0.0188 - accuracy: 0.9940 - val_loss: 2.4638 - val_accuracy: 0.6616\n",
            "Epoch 15/20\n",
            "10/10 [==============================] - 40s 4s/step - loss: 0.0227 - accuracy: 0.9920 - val_loss: 2.3519 - val_accuracy: 0.6790\n",
            "Epoch 16/20\n",
            "10/10 [==============================] - 52s 5s/step - loss: 0.0304 - accuracy: 0.9920 - val_loss: 2.4785 - val_accuracy: 0.6419\n",
            "Epoch 17/20\n",
            "10/10 [==============================] - 41s 4s/step - loss: 0.0225 - accuracy: 0.9920 - val_loss: 2.7227 - val_accuracy: 0.6507\n",
            "Epoch 18/20\n",
            "10/10 [==============================] - 38s 4s/step - loss: 0.0217 - accuracy: 0.9940 - val_loss: 2.5310 - val_accuracy: 0.6507\n",
            "Epoch 19/20\n",
            "10/10 [==============================] - 48s 5s/step - loss: 0.0071 - accuracy: 1.0000 - val_loss: 2.7464 - val_accuracy: 0.6550\n",
            "Epoch 20/20\n",
            "10/10 [==============================] - 41s 4s/step - loss: 0.0154 - accuracy: 0.9980 - val_loss: 2.8072 - val_accuracy: 0.6769\n"
          ]
        }
      ]
    },
    {
      "cell_type": "code",
      "source": [
        "# Visualize\n",
        "import matplotlib.pyplot as plt\n",
        "acc = history.history['accuracy']\n",
        "val_acc = history.history['val_accuracy']\n",
        "val_loss = history.history['val_accuracy']\n",
        "loss = history.history['loss']\n",
        "epochs = range(1, len(acc)+1)\n",
        "plt.plot(epochs, acc, 'bo', label='Training acc')\n",
        "plt.plot(epochs, val_acc, 'b', label='Validation acc')\n",
        "plt.title('Training and validation accuracy')\n",
        "plt.legend()\n",
        "plt.figure()\n",
        "plt.plot(epochs, loss, 'bo', label='Training loss')\n",
        "plt.plot(epochs, val_loss, 'b', label='Validation loss')\n",
        "plt.title('Training and validation loss')\n",
        "plt.legend()\n",
        "plt.show()\n",
        "\n",
        "\n"
      ],
      "metadata": {
        "colab": {
          "base_uri": "https://localhost:8080/",
          "height": 545
        },
        "id": "uJQl521BLWnK",
        "outputId": "fdb3f912-3c04-415d-8373-d5715b387852"
      },
      "execution_count": 54,
      "outputs": [
        {
          "output_type": "display_data",
          "data": {
            "text/plain": [
              "<Figure size 432x288 with 1 Axes>"
            ],
            "image/png": "[encoded data removed]"
          },
          "metadata": {
            "needs_background": "light"
          }
        },
        {
          "output_type": "display_data",
          "data": {
            "text/plain": [
              "<Figure size 432x288 with 1 Axes>"
            ],
            "image/png": "[encoded data removed]"
          },
          "metadata": {
            "needs_background": "light"
          }
        }
      ]
    }
  ],
  "metadata": {
    "colab": {
      "provenance": [],
      "mount_file_id": "1B20hgHIV5JGm6c51wmYtBhB3x8AZq1pI",
      "authorship_tag": "ABX9TyNUFTPSH37YlEx740WQd8Jq",
      "include_colab_link": true
    },
    "kernelspec": {
      "display_name": "Python 3",
      "name": "python3"
    },
    "language_info": {
      "name": "python"
    }
  },
  "nbformat": 4,
  "nbformat_minor": 0
}